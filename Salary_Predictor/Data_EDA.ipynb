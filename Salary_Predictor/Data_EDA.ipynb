{
 "cells": [
  {
   "cell_type": "code",
   "execution_count": 1,
   "metadata": {},
   "outputs": [],
   "source": [
    "import pandas as pd\n",
    "import matplotlib.pyplot as plt\n",
    "import seaborn as sns"
   ]
  },
  {
   "cell_type": "code",
   "execution_count": 2,
   "metadata": {},
   "outputs": [],
   "source": [
    "df = pd.read_csv('./salary_and_other_data_cleaned.csv')"
   ]
  },
  {
   "cell_type": "code",
   "execution_count": 4,
   "metadata": {},
   "outputs": [
    {
     "data": {
      "text/html": [
       "<div>\n",
       "<style scoped>\n",
       "    .dataframe tbody tr th:only-of-type {\n",
       "        vertical-align: middle;\n",
       "    }\n",
       "\n",
       "    .dataframe tbody tr th {\n",
       "        vertical-align: top;\n",
       "    }\n",
       "\n",
       "    .dataframe thead th {\n",
       "        text-align: right;\n",
       "    }\n",
       "</style>\n",
       "<table border=\"1\" class=\"dataframe\">\n",
       "  <thead>\n",
       "    <tr style=\"text-align: right;\">\n",
       "      <th></th>\n",
       "      <th>Job Title</th>\n",
       "      <th>Salary Estimate</th>\n",
       "      <th>Job Description</th>\n",
       "      <th>Rating</th>\n",
       "      <th>Company Name</th>\n",
       "      <th>Location</th>\n",
       "      <th>Size</th>\n",
       "      <th>Founded</th>\n",
       "      <th>Type of ownership</th>\n",
       "      <th>Industry</th>\n",
       "      <th>...</th>\n",
       "      <th>max_salary</th>\n",
       "      <th>avg_salary</th>\n",
       "      <th>company_txt</th>\n",
       "      <th>job_state</th>\n",
       "      <th>age</th>\n",
       "      <th>python_yn</th>\n",
       "      <th>R_yn</th>\n",
       "      <th>spark</th>\n",
       "      <th>aws</th>\n",
       "      <th>excel</th>\n",
       "    </tr>\n",
       "  </thead>\n",
       "  <tbody>\n",
       "    <tr>\n",
       "      <th>0</th>\n",
       "      <td>Senior Data Scientist , Advanced Analytics</td>\n",
       "      <td>$123K-$199K (Glassdoor est.)</td>\n",
       "      <td>Senior Data Scientist\\nRaytheon Missiles &amp; Def...</td>\n",
       "      <td>3.8</td>\n",
       "      <td>Raytheon Missiles &amp; Defense\\n3.8</td>\n",
       "      <td>Andover, MA</td>\n",
       "      <td>-1</td>\n",
       "      <td>-1</td>\n",
       "      <td>-1</td>\n",
       "      <td>-1</td>\n",
       "      <td>...</td>\n",
       "      <td>199</td>\n",
       "      <td>161.0</td>\n",
       "      <td>Raytheon Missiles &amp; Defense\\n</td>\n",
       "      <td>MA</td>\n",
       "      <td>-1</td>\n",
       "      <td>1</td>\n",
       "      <td>0</td>\n",
       "      <td>0</td>\n",
       "      <td>1</td>\n",
       "      <td>0</td>\n",
       "    </tr>\n",
       "    <tr>\n",
       "      <th>1</th>\n",
       "      <td>Data Scientist 2</td>\n",
       "      <td>$52K-$95K (Glassdoor est.)</td>\n",
       "      <td>Description\\nDigital Health and Analytics with...</td>\n",
       "      <td>3.9</td>\n",
       "      <td>Raytheon Missiles &amp; Defense\\n3.8</td>\n",
       "      <td>Louisville, KY</td>\n",
       "      <td>10000+ Employees</td>\n",
       "      <td>1961</td>\n",
       "      <td>Company - Public</td>\n",
       "      <td>Insurance Carriers</td>\n",
       "      <td>...</td>\n",
       "      <td>95</td>\n",
       "      <td>73.5</td>\n",
       "      <td>Raytheon Missiles &amp; Defense\\n</td>\n",
       "      <td>KY</td>\n",
       "      <td>59</td>\n",
       "      <td>1</td>\n",
       "      <td>0</td>\n",
       "      <td>1</td>\n",
       "      <td>0</td>\n",
       "      <td>0</td>\n",
       "    </tr>\n",
       "    <tr>\n",
       "      <th>2</th>\n",
       "      <td>Senior Data Engineer</td>\n",
       "      <td>$67K-$127K (Glassdoor est.)</td>\n",
       "      <td>Join our team dedicated to developing and exec...</td>\n",
       "      <td>4.6</td>\n",
       "      <td>Novetta\\n4.6</td>\n",
       "      <td>Reston, VA</td>\n",
       "      <td>501 to 1000 Employees</td>\n",
       "      <td>2012</td>\n",
       "      <td>Company - Private</td>\n",
       "      <td>Enterprise Software &amp; Network Solutions</td>\n",
       "      <td>...</td>\n",
       "      <td>127</td>\n",
       "      <td>97.0</td>\n",
       "      <td>Novetta\\n</td>\n",
       "      <td>VA</td>\n",
       "      <td>8</td>\n",
       "      <td>1</td>\n",
       "      <td>0</td>\n",
       "      <td>1</td>\n",
       "      <td>1</td>\n",
       "      <td>1</td>\n",
       "    </tr>\n",
       "    <tr>\n",
       "      <th>3</th>\n",
       "      <td>Research Scientist/ Senior Research Scientist</td>\n",
       "      <td>$88K-$167K (Glassdoor est.)</td>\n",
       "      <td>Research Scientist/ Senior Research Scientist\\...</td>\n",
       "      <td>4.2</td>\n",
       "      <td>AstraZeneca\\n4.2</td>\n",
       "      <td>Gaithersburg, MD</td>\n",
       "      <td>10000+ Employees</td>\n",
       "      <td>1913</td>\n",
       "      <td>Company - Public</td>\n",
       "      <td>Biotech &amp; Pharmaceuticals</td>\n",
       "      <td>...</td>\n",
       "      <td>167</td>\n",
       "      <td>127.5</td>\n",
       "      <td>AstraZeneca\\n</td>\n",
       "      <td>MD</td>\n",
       "      <td>107</td>\n",
       "      <td>0</td>\n",
       "      <td>0</td>\n",
       "      <td>0</td>\n",
       "      <td>0</td>\n",
       "      <td>1</td>\n",
       "    </tr>\n",
       "    <tr>\n",
       "      <th>4</th>\n",
       "      <td>Spark/Big Data Engineer</td>\n",
       "      <td>$52K-$101K (Glassdoor est.)</td>\n",
       "      <td>The Data Consumption team of Decision Sciences...</td>\n",
       "      <td>3.5</td>\n",
       "      <td>GEICO\\n3.5</td>\n",
       "      <td>Chevy Chase, MD</td>\n",
       "      <td>10000+ Employees</td>\n",
       "      <td>1936</td>\n",
       "      <td>Subsidiary or Business Segment</td>\n",
       "      <td>Insurance Carriers</td>\n",
       "      <td>...</td>\n",
       "      <td>101</td>\n",
       "      <td>76.5</td>\n",
       "      <td>GEICO\\n</td>\n",
       "      <td>MD</td>\n",
       "      <td>84</td>\n",
       "      <td>0</td>\n",
       "      <td>0</td>\n",
       "      <td>1</td>\n",
       "      <td>0</td>\n",
       "      <td>1</td>\n",
       "    </tr>\n",
       "  </tbody>\n",
       "</table>\n",
       "<p>5 rows × 25 columns</p>\n",
       "</div>"
      ],
      "text/plain": [
       "                                       Job Title  \\\n",
       "0     Senior Data Scientist , Advanced Analytics   \n",
       "1                               Data Scientist 2   \n",
       "2                           Senior Data Engineer   \n",
       "3  Research Scientist/ Senior Research Scientist   \n",
       "4                        Spark/Big Data Engineer   \n",
       "\n",
       "                Salary Estimate  \\\n",
       "0  $123K-$199K (Glassdoor est.)   \n",
       "1    $52K-$95K (Glassdoor est.)   \n",
       "2   $67K-$127K (Glassdoor est.)   \n",
       "3   $88K-$167K (Glassdoor est.)   \n",
       "4   $52K-$101K (Glassdoor est.)   \n",
       "\n",
       "                                     Job Description  Rating  \\\n",
       "0  Senior Data Scientist\\nRaytheon Missiles & Def...     3.8   \n",
       "1  Description\\nDigital Health and Analytics with...     3.9   \n",
       "2  Join our team dedicated to developing and exec...     4.6   \n",
       "3  Research Scientist/ Senior Research Scientist\\...     4.2   \n",
       "4  The Data Consumption team of Decision Sciences...     3.5   \n",
       "\n",
       "                       Company Name          Location                   Size  \\\n",
       "0  Raytheon Missiles & Defense\\n3.8       Andover, MA                     -1   \n",
       "1  Raytheon Missiles & Defense\\n3.8    Louisville, KY       10000+ Employees   \n",
       "2                      Novetta\\n4.6        Reston, VA  501 to 1000 Employees   \n",
       "3                  AstraZeneca\\n4.2  Gaithersburg, MD       10000+ Employees   \n",
       "4                        GEICO\\n3.5   Chevy Chase, MD       10000+ Employees   \n",
       "\n",
       "   Founded               Type of ownership  \\\n",
       "0       -1                              -1   \n",
       "1     1961                Company - Public   \n",
       "2     2012               Company - Private   \n",
       "3     1913                Company - Public   \n",
       "4     1936  Subsidiary or Business Segment   \n",
       "\n",
       "                                  Industry  ... max_salary avg_salary  \\\n",
       "0                                       -1  ...        199      161.0   \n",
       "1                       Insurance Carriers  ...         95       73.5   \n",
       "2  Enterprise Software & Network Solutions  ...        127       97.0   \n",
       "3                Biotech & Pharmaceuticals  ...        167      127.5   \n",
       "4                       Insurance Carriers  ...        101       76.5   \n",
       "\n",
       "                     company_txt  job_state  age  python_yn  R_yn spark aws  \\\n",
       "0  Raytheon Missiles & Defense\\n         MA   -1          1     0     0   1   \n",
       "1  Raytheon Missiles & Defense\\n         KY   59          1     0     1   0   \n",
       "2                      Novetta\\n         VA    8          1     0     1   1   \n",
       "3                  AstraZeneca\\n         MD  107          0     0     0   0   \n",
       "4                        GEICO\\n         MD   84          0     0     1   0   \n",
       "\n",
       "   excel  \n",
       "0      0  \n",
       "1      0  \n",
       "2      1  \n",
       "3      1  \n",
       "4      1  \n",
       "\n",
       "[5 rows x 25 columns]"
      ]
     },
     "execution_count": 4,
     "metadata": {},
     "output_type": "execute_result"
    }
   ],
   "source": [
    "df.head()"
   ]
  },
  {
   "cell_type": "code",
   "execution_count": 5,
   "metadata": {},
   "outputs": [
    {
     "data": {
      "text/plain": [
       "Index(['Job Title', 'Salary Estimate', 'Job Description', 'Rating',\n",
       "       'Company Name', 'Location', 'Size', 'Founded', 'Type of ownership',\n",
       "       'Industry', 'Sector', 'Revenue', 'hourly', 'employer_provided',\n",
       "       'min_salary', 'max_salary', 'avg_salary', 'company_txt', 'job_state',\n",
       "       'age', 'python_yn', 'R_yn', 'spark', 'aws', 'excel'],\n",
       "      dtype='object')"
      ]
     },
     "execution_count": 5,
     "metadata": {},
     "output_type": "execute_result"
    }
   ],
   "source": [
    "df.columns"
   ]
  },
  {
   "cell_type": "code",
   "execution_count": 23,
   "metadata": {},
   "outputs": [],
   "source": [
    "def title_simplifier(title):\n",
    "    if 'data scientist' in title.lower():\n",
    "        return 'data scientist'\n",
    "    elif 'data engineer' in title.lower():\n",
    "        return 'data engineer'\n",
    "    elif 'analyst' in title.lower():\n",
    "        return 'analyst' \n",
    "    elif 'machine learning' in title.lower():\n",
    "        return 'machine learning'\n",
    "    elif 'director' in title.lower():\n",
    "        return 'director'\n",
    "    elif 'manager' in title.lower():\n",
    "        return 'manager'\n",
    "    else:\n",
    "        return 'na'\n",
    "    \n",
    "def seniority(title):\n",
    "    if 'sr' in title.lower() or 'senior' in title.lower() or 'lead' in title.lower() \\\n",
    "        or 'principal' in title.lower() or 'sr.' in title.lower():\n",
    "        return 'senior'\n",
    "    elif 'jr' in title.lower() or 'jr.' in title.lower():\n",
    "        return 'junior'\n",
    "    else:\n",
    "        return 'na'\n",
    "    "
   ]
  },
  {
   "cell_type": "code",
   "execution_count": 18,
   "metadata": {},
   "outputs": [
    {
     "data": {
      "text/plain": [
       "data scientist      141\n",
       "analyst             101\n",
       "na                   57\n",
       "data engineer        36\n",
       "machine learning      6\n",
       "manager               5\n",
       "director              4\n",
       "Name: job_simp, dtype: int64"
      ]
     },
     "execution_count": 18,
     "metadata": {},
     "output_type": "execute_result"
    }
   ],
   "source": [
    "# Job Title simplified\n",
    "df['job_simp'] = df['Job Title'].apply(title_simplifier)\n",
    "df.job_simp.value_counts()"
   ]
  },
  {
   "cell_type": "code",
   "execution_count": 24,
   "metadata": {},
   "outputs": [
    {
     "data": {
      "text/plain": [
       "na        270\n",
       "senior     78\n",
       "junior      2\n",
       "Name: seniority, dtype: int64"
      ]
     },
     "execution_count": 24,
     "metadata": {},
     "output_type": "execute_result"
    }
   ],
   "source": [
    "# Job seniority\n",
    "df['seniority'] = df['Job Title'].apply(seniority)\n",
    "df.seniority.value_counts()"
   ]
  },
  {
   "cell_type": "code",
   "execution_count": 27,
   "metadata": {},
   "outputs": [
    {
     "data": {
      "text/plain": [
       "CA    34\n",
       "VA    31\n",
       "MD    30\n",
       "NY    28\n",
       "MA    27\n",
       "TX    20\n",
       "FL    19\n",
       "GA    17\n",
       "UT    13\n",
       "NJ    13\n",
       "PA    12\n",
       "WI    10\n",
       "CO     8\n",
       "MO     8\n",
       "IL     8\n",
       "IN     8\n",
       "WA     7\n",
       "NM     7\n",
       "DC     6\n",
       "NC     6\n",
       "OH     4\n",
       "MI     4\n",
       "ME     3\n",
       "AZ     3\n",
       "NE     3\n",
       "CT     3\n",
       "KY     3\n",
       "AR     3\n",
       "TN     2\n",
       "AL     2\n",
       "IA     2\n",
       "OK     2\n",
       "MS     1\n",
       "LA     1\n",
       "ID     1\n",
       "SC     1\n",
       "Name: job_state, dtype: int64"
      ]
     },
     "execution_count": 27,
     "metadata": {},
     "output_type": "execute_result"
    }
   ],
   "source": [
    "# Fixing Los Angeles- fixed\n",
    "df['job_state'] = df['job_state'].apply(lambda x: x.strip() if x.strip().lower() !='los angeles' else 'CA')\n",
    "df['job_state'].value_counts()"
   ]
  },
  {
   "cell_type": "code",
   "execution_count": 29,
   "metadata": {},
   "outputs": [
    {
     "data": {
      "text/plain": [
       "0      4627\n",
       "1      3525\n",
       "2      5999\n",
       "3      5182\n",
       "4      3982\n",
       "       ... \n",
       "345    1610\n",
       "346    6253\n",
       "347    2940\n",
       "348    3890\n",
       "349    4761\n",
       "Name: desc_len, Length: 350, dtype: int64"
      ]
     },
     "execution_count": 29,
     "metadata": {},
     "output_type": "execute_result"
    }
   ],
   "source": [
    "# Job Description Length\n",
    "df['desc_len'] = df['Job Description'].apply(lambda x: len(x))\n",
    "df['desc_len']"
   ]
  },
  {
   "cell_type": "code",
   "execution_count": 34,
   "metadata": {},
   "outputs": [],
   "source": [
    "# hourly wage into annual\n",
    "df['min_salary'] = df.apply(lambda x: x.min_salary*2 if x.hourly == 1 else x.min_salary, axis = 1)\n",
    "df['max_salary'] = df.apply(lambda x: x.max_salary*2 if x.hourly == 1 else x.max_salary, axis = 1)"
   ]
  },
  {
   "cell_type": "code",
   "execution_count": 35,
   "metadata": {},
   "outputs": [
    {
     "data": {
      "text/html": [
       "<div>\n",
       "<style scoped>\n",
       "    .dataframe tbody tr th:only-of-type {\n",
       "        vertical-align: middle;\n",
       "    }\n",
       "\n",
       "    .dataframe tbody tr th {\n",
       "        vertical-align: top;\n",
       "    }\n",
       "\n",
       "    .dataframe thead th {\n",
       "        text-align: right;\n",
       "    }\n",
       "</style>\n",
       "<table border=\"1\" class=\"dataframe\">\n",
       "  <thead>\n",
       "    <tr style=\"text-align: right;\">\n",
       "      <th></th>\n",
       "      <th>min_salary</th>\n",
       "      <th>max_salary</th>\n",
       "    </tr>\n",
       "  </thead>\n",
       "  <tbody>\n",
       "    <tr>\n",
       "      <th>0</th>\n",
       "      <td>123</td>\n",
       "      <td>199</td>\n",
       "    </tr>\n",
       "    <tr>\n",
       "      <th>1</th>\n",
       "      <td>52</td>\n",
       "      <td>95</td>\n",
       "    </tr>\n",
       "    <tr>\n",
       "      <th>2</th>\n",
       "      <td>67</td>\n",
       "      <td>127</td>\n",
       "    </tr>\n",
       "    <tr>\n",
       "      <th>3</th>\n",
       "      <td>88</td>\n",
       "      <td>167</td>\n",
       "    </tr>\n",
       "    <tr>\n",
       "      <th>4</th>\n",
       "      <td>52</td>\n",
       "      <td>101</td>\n",
       "    </tr>\n",
       "    <tr>\n",
       "      <th>...</th>\n",
       "      <td>...</td>\n",
       "      <td>...</td>\n",
       "    </tr>\n",
       "    <tr>\n",
       "      <th>345</th>\n",
       "      <td>52</td>\n",
       "      <td>93</td>\n",
       "    </tr>\n",
       "    <tr>\n",
       "      <th>346</th>\n",
       "      <td>94</td>\n",
       "      <td>155</td>\n",
       "    </tr>\n",
       "    <tr>\n",
       "      <th>347</th>\n",
       "      <td>33</td>\n",
       "      <td>63</td>\n",
       "    </tr>\n",
       "    <tr>\n",
       "      <th>348</th>\n",
       "      <td>97</td>\n",
       "      <td>156</td>\n",
       "    </tr>\n",
       "    <tr>\n",
       "      <th>349</th>\n",
       "      <td>83</td>\n",
       "      <td>135</td>\n",
       "    </tr>\n",
       "  </tbody>\n",
       "</table>\n",
       "<p>350 rows × 2 columns</p>\n",
       "</div>"
      ],
      "text/plain": [
       "     min_salary  max_salary\n",
       "0           123         199\n",
       "1            52          95\n",
       "2            67         127\n",
       "3            88         167\n",
       "4            52         101\n",
       "..          ...         ...\n",
       "345          52          93\n",
       "346          94         155\n",
       "347          33          63\n",
       "348          97         156\n",
       "349          83         135\n",
       "\n",
       "[350 rows x 2 columns]"
      ]
     },
     "execution_count": 35,
     "metadata": {},
     "output_type": "execute_result"
    }
   ],
   "source": [
    "df[['min_salary','max_salary']]"
   ]
  },
  {
   "cell_type": "code",
   "execution_count": 36,
   "metadata": {},
   "outputs": [
    {
     "data": {
      "text/plain": [
       "Index(['Job Title', 'Salary Estimate', 'Job Description', 'Rating',\n",
       "       'Company Name', 'Location', 'Size', 'Founded', 'Type of ownership',\n",
       "       'Industry', 'Sector', 'Revenue', 'hourly', 'employer_provided',\n",
       "       'min_salary', 'max_salary', 'avg_salary', 'company_txt', 'job_state',\n",
       "       'age', 'python_yn', 'R_yn', 'spark', 'aws', 'excel', 'job_simp',\n",
       "       'seniority', 'desc_len'],\n",
       "      dtype='object')"
      ]
     },
     "execution_count": 36,
     "metadata": {},
     "output_type": "execute_result"
    }
   ],
   "source": [
    "df.columns"
   ]
  },
  {
   "cell_type": "code",
   "execution_count": 37,
   "metadata": {},
   "outputs": [],
   "source": [
    "df['company_txt'] = df.company_txt.apply(lambda x: x.replace('\\n', ''))"
   ]
  },
  {
   "cell_type": "code",
   "execution_count": 38,
   "metadata": {},
   "outputs": [
    {
     "data": {
      "text/html": [
       "<div>\n",
       "<style scoped>\n",
       "    .dataframe tbody tr th:only-of-type {\n",
       "        vertical-align: middle;\n",
       "    }\n",
       "\n",
       "    .dataframe tbody tr th {\n",
       "        vertical-align: top;\n",
       "    }\n",
       "\n",
       "    .dataframe thead th {\n",
       "        text-align: right;\n",
       "    }\n",
       "</style>\n",
       "<table border=\"1\" class=\"dataframe\">\n",
       "  <thead>\n",
       "    <tr style=\"text-align: right;\">\n",
       "      <th></th>\n",
       "      <th>Rating</th>\n",
       "      <th>Founded</th>\n",
       "      <th>hourly</th>\n",
       "      <th>employer_provided</th>\n",
       "      <th>min_salary</th>\n",
       "      <th>max_salary</th>\n",
       "      <th>avg_salary</th>\n",
       "      <th>age</th>\n",
       "      <th>python_yn</th>\n",
       "      <th>R_yn</th>\n",
       "      <th>spark</th>\n",
       "      <th>aws</th>\n",
       "      <th>excel</th>\n",
       "      <th>desc_len</th>\n",
       "    </tr>\n",
       "  </thead>\n",
       "  <tbody>\n",
       "    <tr>\n",
       "      <th>count</th>\n",
       "      <td>350.000000</td>\n",
       "      <td>350.000000</td>\n",
       "      <td>350.000000</td>\n",
       "      <td>350.000000</td>\n",
       "      <td>350.000000</td>\n",
       "      <td>350.000000</td>\n",
       "      <td>350.000000</td>\n",
       "      <td>350.000000</td>\n",
       "      <td>350.000000</td>\n",
       "      <td>350.0</td>\n",
       "      <td>350.000000</td>\n",
       "      <td>350.000000</td>\n",
       "      <td>350.000000</td>\n",
       "      <td>350.000000</td>\n",
       "    </tr>\n",
       "    <tr>\n",
       "      <th>mean</th>\n",
       "      <td>3.748286</td>\n",
       "      <td>1868.380000</td>\n",
       "      <td>0.017143</td>\n",
       "      <td>0.005714</td>\n",
       "      <td>68.931429</td>\n",
       "      <td>117.568571</td>\n",
       "      <td>92.707143</td>\n",
       "      <td>41.854286</td>\n",
       "      <td>0.554286</td>\n",
       "      <td>0.0</td>\n",
       "      <td>0.177143</td>\n",
       "      <td>0.254286</td>\n",
       "      <td>0.582857</td>\n",
       "      <td>4274.865714</td>\n",
       "    </tr>\n",
       "    <tr>\n",
       "      <th>std</th>\n",
       "      <td>0.502355</td>\n",
       "      <td>450.367359</td>\n",
       "      <td>0.129989</td>\n",
       "      <td>0.075485</td>\n",
       "      <td>26.456233</td>\n",
       "      <td>39.560691</td>\n",
       "      <td>32.839770</td>\n",
       "      <td>42.028424</td>\n",
       "      <td>0.497756</td>\n",
       "      <td>0.0</td>\n",
       "      <td>0.382336</td>\n",
       "      <td>0.436082</td>\n",
       "      <td>0.493793</td>\n",
       "      <td>1882.214159</td>\n",
       "    </tr>\n",
       "    <tr>\n",
       "      <th>min</th>\n",
       "      <td>2.000000</td>\n",
       "      <td>-1.000000</td>\n",
       "      <td>0.000000</td>\n",
       "      <td>0.000000</td>\n",
       "      <td>17.000000</td>\n",
       "      <td>40.000000</td>\n",
       "      <td>17.000000</td>\n",
       "      <td>-1.000000</td>\n",
       "      <td>0.000000</td>\n",
       "      <td>0.0</td>\n",
       "      <td>0.000000</td>\n",
       "      <td>0.000000</td>\n",
       "      <td>0.000000</td>\n",
       "      <td>839.000000</td>\n",
       "    </tr>\n",
       "    <tr>\n",
       "      <th>25%</th>\n",
       "      <td>3.400000</td>\n",
       "      <td>1947.000000</td>\n",
       "      <td>0.000000</td>\n",
       "      <td>0.000000</td>\n",
       "      <td>47.000000</td>\n",
       "      <td>87.250000</td>\n",
       "      <td>66.250000</td>\n",
       "      <td>13.000000</td>\n",
       "      <td>0.000000</td>\n",
       "      <td>0.0</td>\n",
       "      <td>0.000000</td>\n",
       "      <td>0.000000</td>\n",
       "      <td>0.000000</td>\n",
       "      <td>3119.000000</td>\n",
       "    </tr>\n",
       "    <tr>\n",
       "      <th>50%</th>\n",
       "      <td>3.800000</td>\n",
       "      <td>1986.000000</td>\n",
       "      <td>0.000000</td>\n",
       "      <td>0.000000</td>\n",
       "      <td>65.500000</td>\n",
       "      <td>112.000000</td>\n",
       "      <td>89.000000</td>\n",
       "      <td>25.500000</td>\n",
       "      <td>1.000000</td>\n",
       "      <td>0.0</td>\n",
       "      <td>0.000000</td>\n",
       "      <td>0.000000</td>\n",
       "      <td>1.000000</td>\n",
       "      <td>4023.500000</td>\n",
       "    </tr>\n",
       "    <tr>\n",
       "      <th>75%</th>\n",
       "      <td>4.075000</td>\n",
       "      <td>2005.000000</td>\n",
       "      <td>0.000000</td>\n",
       "      <td>0.000000</td>\n",
       "      <td>88.000000</td>\n",
       "      <td>144.000000</td>\n",
       "      <td>116.000000</td>\n",
       "      <td>58.500000</td>\n",
       "      <td>1.000000</td>\n",
       "      <td>0.0</td>\n",
       "      <td>0.000000</td>\n",
       "      <td>1.000000</td>\n",
       "      <td>1.000000</td>\n",
       "      <td>5067.500000</td>\n",
       "    </tr>\n",
       "    <tr>\n",
       "      <th>max</th>\n",
       "      <td>4.900000</td>\n",
       "      <td>2020.000000</td>\n",
       "      <td>1.000000</td>\n",
       "      <td>1.000000</td>\n",
       "      <td>144.000000</td>\n",
       "      <td>235.000000</td>\n",
       "      <td>187.500000</td>\n",
       "      <td>190.000000</td>\n",
       "      <td>1.000000</td>\n",
       "      <td>0.0</td>\n",
       "      <td>1.000000</td>\n",
       "      <td>1.000000</td>\n",
       "      <td>1.000000</td>\n",
       "      <td>16050.000000</td>\n",
       "    </tr>\n",
       "  </tbody>\n",
       "</table>\n",
       "</div>"
      ],
      "text/plain": [
       "           Rating      Founded      hourly  employer_provided  min_salary  \\\n",
       "count  350.000000   350.000000  350.000000         350.000000  350.000000   \n",
       "mean     3.748286  1868.380000    0.017143           0.005714   68.931429   \n",
       "std      0.502355   450.367359    0.129989           0.075485   26.456233   \n",
       "min      2.000000    -1.000000    0.000000           0.000000   17.000000   \n",
       "25%      3.400000  1947.000000    0.000000           0.000000   47.000000   \n",
       "50%      3.800000  1986.000000    0.000000           0.000000   65.500000   \n",
       "75%      4.075000  2005.000000    0.000000           0.000000   88.000000   \n",
       "max      4.900000  2020.000000    1.000000           1.000000  144.000000   \n",
       "\n",
       "       max_salary  avg_salary         age   python_yn   R_yn       spark  \\\n",
       "count  350.000000  350.000000  350.000000  350.000000  350.0  350.000000   \n",
       "mean   117.568571   92.707143   41.854286    0.554286    0.0    0.177143   \n",
       "std     39.560691   32.839770   42.028424    0.497756    0.0    0.382336   \n",
       "min     40.000000   17.000000   -1.000000    0.000000    0.0    0.000000   \n",
       "25%     87.250000   66.250000   13.000000    0.000000    0.0    0.000000   \n",
       "50%    112.000000   89.000000   25.500000    1.000000    0.0    0.000000   \n",
       "75%    144.000000  116.000000   58.500000    1.000000    0.0    0.000000   \n",
       "max    235.000000  187.500000  190.000000    1.000000    0.0    1.000000   \n",
       "\n",
       "              aws       excel      desc_len  \n",
       "count  350.000000  350.000000    350.000000  \n",
       "mean     0.254286    0.582857   4274.865714  \n",
       "std      0.436082    0.493793   1882.214159  \n",
       "min      0.000000    0.000000    839.000000  \n",
       "25%      0.000000    0.000000   3119.000000  \n",
       "50%      0.000000    1.000000   4023.500000  \n",
       "75%      1.000000    1.000000   5067.500000  \n",
       "max      1.000000    1.000000  16050.000000  "
      ]
     },
     "execution_count": 38,
     "metadata": {},
     "output_type": "execute_result"
    }
   ],
   "source": [
    "df.describe()"
   ]
  },
  {
   "cell_type": "code",
   "execution_count": 39,
   "metadata": {},
   "outputs": [
    {
     "data": {
      "text/plain": [
       "Index(['Job Title', 'Salary Estimate', 'Job Description', 'Rating',\n",
       "       'Company Name', 'Location', 'Size', 'Founded', 'Type of ownership',\n",
       "       'Industry', 'Sector', 'Revenue', 'hourly', 'employer_provided',\n",
       "       'min_salary', 'max_salary', 'avg_salary', 'company_txt', 'job_state',\n",
       "       'age', 'python_yn', 'R_yn', 'spark', 'aws', 'excel', 'job_simp',\n",
       "       'seniority', 'desc_len'],\n",
       "      dtype='object')"
      ]
     },
     "execution_count": 39,
     "metadata": {},
     "output_type": "execute_result"
    }
   ],
   "source": [
    "df.columns"
   ]
  },
  {
   "cell_type": "code",
   "execution_count": 40,
   "metadata": {},
   "outputs": [
    {
     "data": {
      "text/plain": [
       "<AxesSubplot:>"
      ]
     },
     "execution_count": 40,
     "metadata": {},
     "output_type": "execute_result"
    },
    {
     "data": {
      "image/png": "[encoded data removed]",
      "text/plain": [
       "<Figure size 432x288 with 1 Axes>"
      ]
     },
     "metadata": {
      "needs_background": "light"
     },
     "output_type": "display_data"
    }
   ],
   "source": [
    "df.Rating.hist()"
   ]
  },
  {
   "cell_type": "code",
   "execution_count": 42,
   "metadata": {},
   "outputs": [
    {
     "data": {
      "text/plain": [
       "<AxesSubplot:>"
      ]
     },
     "execution_count": 42,
     "metadata": {},
     "output_type": "execute_result"
    },
    {
     "data": {
      "image/png": "[encoded data removed]",
      "text/plain": [
       "<Figure size 432x288 with 1 Axes>"
      ]
     },
     "metadata": {
      "needs_background": "light"
     },
     "output_type": "display_data"
    }
   ],
   "source": [
    "df.avg_salary.hist()"
   ]
  },
  {
   "cell_type": "code",
   "execution_count": 43,
   "metadata": {},
   "outputs": [
    {
     "data": {
      "text/plain": [
       "<AxesSubplot:>"
      ]
     },
     "execution_count": 43,
     "metadata": {},
     "output_type": "execute_result"
    },
    {
     "data": {
      "image/png": "[encoded data removed]",
      "text/plain": [
       "<Figure size 432x288 with 1 Axes>"
      ]
     },
     "metadata": {
      "needs_background": "light"
     },
     "output_type": "display_data"
    }
   ],
   "source": [
    "df.age.hist()"
   ]
  },
  {
   "cell_type": "code",
   "execution_count": 44,
   "metadata": {},
   "outputs": [
    {
     "data": {
      "text/plain": [
       "<AxesSubplot:>"
      ]
     },
     "execution_count": 44,
     "metadata": {},
     "output_type": "execute_result"
    },
    {
     "data": {
      "image/png": "[encoded data removed]",
      "text/plain": [
       "<Figure size 432x288 with 1 Axes>"
      ]
     },
     "metadata": {
      "needs_background": "light"
     },
     "output_type": "display_data"
    }
   ],
   "source": [
    "df.boxplot('avg_salary')"
   ]
  },
  {
   "cell_type": "code",
   "execution_count": 46,
   "metadata": {},
   "outputs": [
    {
     "data": {
      "text/plain": [
       "<AxesSubplot:>"
      ]
     },
     "execution_count": 46,
     "metadata": {},
     "output_type": "execute_result"
    },
    {
     "data": {
      "image/png": "[encoded data removed]",
      "text/plain": [
       "<Figure size 432x288 with 1 Axes>"
      ]
     },
     "metadata": {
      "needs_background": "light"
     },
     "output_type": "display_data"
    }
   ],
   "source": [
    "df.boxplot(['avg_salary', 'age'])"
   ]
  },
  {
   "cell_type": "code",
   "execution_count": 47,
   "metadata": {},
   "outputs": [
    {
     "data": {
      "text/plain": [
       "<AxesSubplot:>"
      ]
     },
     "execution_count": 47,
     "metadata": {},
     "output_type": "execute_result"
    },
    {
     "data": {
      "image/png": "[encoded data removed]",
      "text/plain": [
       "<Figure size 432x288 with 1 Axes>"
      ]
     },
     "metadata": {
      "needs_background": "light"
     },
     "output_type": "display_data"
    }
   ],
   "source": [
    "df.boxplot('Rating')"
   ]
  },
  {
   "cell_type": "code",
   "execution_count": 51,
   "metadata": {},
   "outputs": [],
   "source": [
    "df_corr = df[['age', 'Rating', 'avg_salary', 'desc_len']]\n"
   ]
  },
  {
   "cell_type": "code",
   "execution_count": 52,
   "metadata": {},
   "outputs": [
    {
     "data": {
      "text/html": [
       "<div>\n",
       "<style scoped>\n",
       "    .dataframe tbody tr th:only-of-type {\n",
       "        vertical-align: middle;\n",
       "    }\n",
       "\n",
       "    .dataframe tbody tr th {\n",
       "        vertical-align: top;\n",
       "    }\n",
       "\n",
       "    .dataframe thead th {\n",
       "        text-align: right;\n",
       "    }\n",
       "</style>\n",
       "<table border=\"1\" class=\"dataframe\">\n",
       "  <thead>\n",
       "    <tr style=\"text-align: right;\">\n",
       "      <th></th>\n",
       "      <th>age</th>\n",
       "      <th>Rating</th>\n",
       "      <th>avg_salary</th>\n",
       "      <th>desc_len</th>\n",
       "    </tr>\n",
       "  </thead>\n",
       "  <tbody>\n",
       "    <tr>\n",
       "      <th>age</th>\n",
       "      <td>1.000000</td>\n",
       "      <td>0.046802</td>\n",
       "      <td>-0.057486</td>\n",
       "      <td>0.121866</td>\n",
       "    </tr>\n",
       "    <tr>\n",
       "      <th>Rating</th>\n",
       "      <td>0.046802</td>\n",
       "      <td>1.000000</td>\n",
       "      <td>0.118141</td>\n",
       "      <td>-0.009780</td>\n",
       "    </tr>\n",
       "    <tr>\n",
       "      <th>avg_salary</th>\n",
       "      <td>-0.057486</td>\n",
       "      <td>0.118141</td>\n",
       "      <td>1.000000</td>\n",
       "      <td>-0.046464</td>\n",
       "    </tr>\n",
       "    <tr>\n",
       "      <th>desc_len</th>\n",
       "      <td>0.121866</td>\n",
       "      <td>-0.009780</td>\n",
       "      <td>-0.046464</td>\n",
       "      <td>1.000000</td>\n",
       "    </tr>\n",
       "  </tbody>\n",
       "</table>\n",
       "</div>"
      ],
      "text/plain": [
       "                 age    Rating  avg_salary  desc_len\n",
       "age         1.000000  0.046802   -0.057486  0.121866\n",
       "Rating      0.046802  1.000000    0.118141 -0.009780\n",
       "avg_salary -0.057486  0.118141    1.000000 -0.046464\n",
       "desc_len    0.121866 -0.009780   -0.046464  1.000000"
      ]
     },
     "execution_count": 52,
     "metadata": {},
     "output_type": "execute_result"
    }
   ],
   "source": [
    "df_corr.corr()"
   ]
  },
  {
   "cell_type": "code",
   "execution_count": 57,
   "metadata": {},
   "outputs": [
    {
     "data": {
      "text/plain": [
       "<AxesSubplot:>"
      ]
     },
     "execution_count": 57,
     "metadata": {},
     "output_type": "execute_result"
    },
    {
     "data": {
      "image/png": "[encoded data removed]",
      "text/plain": [
       "<Figure size 432x288 with 2 Axes>"
      ]
     },
     "metadata": {
      "needs_background": "light"
     },
     "output_type": "display_data"
    }
   ],
   "source": [
    "cmap = sns.diverging_palette(220, 10, as_cmap=True)\n",
    "sns.heatmap(df_corr.corr(), vmax=.3, center=0, cmap=cmap,\n",
    "           square=True ,linewidths=.5, cbar_kws={'shrink': .5})"
   ]
  },
  {
   "cell_type": "code",
   "execution_count": 59,
   "metadata": {},
   "outputs": [],
   "source": [
    "# df.columns\n",
    "df_catergorical = df[['Location', 'Size', 'Type of ownership',\n",
    "            'Industry', 'Sector', 'Revenue','Company Name', \n",
    "            'company_txt','job_state', 'python_yn', 'R_yn', \n",
    "            'spark', 'aws', 'excel', 'job_simp', 'seniority', \n",
    "            'avg_salary']]"
   ]
  },
  {
   "cell_type": "code",
   "execution_count": null,
   "metadata": {},
   "outputs": [],
   "source": [
    "for i in df_catergorical.columns:\n",
    "    sns.barplot()"
   ]
  }
 ],
 "metadata": {
  "kernelspec": {
   "display_name": "Python 3.8.8 64-bit ('base': conda)",
   "language": "python",
   "name": "python388jvsc74a57bd0f86b023f1a0595a40f7b5f1c711896026bfb42ca4f34577795594e6fcb3c792f"
  },
  "language_info": {
   "codemirror_mode": {
    "name": "ipython",
    "version": 3
   },
   "file_extension": ".py",
   "mimetype": "text/x-python",
   "name": "python",
   "nbconvert_exporter": "python",
   "pygments_lexer": "ipython3",
   "version": "3.8.8"
  }
 },
 "nbformat": 4,
 "nbformat_minor": 4
}
