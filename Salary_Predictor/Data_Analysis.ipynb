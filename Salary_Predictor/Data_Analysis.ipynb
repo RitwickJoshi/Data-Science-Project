{
 "cells": [
  {
   "cell_type": "code",
   "execution_count": 26,
   "metadata": {},
   "outputs": [],
   "source": [
    "import pandas as pd\n",
    "import matplotlib.pyplot as plt\n",
    "import seaborn as sns"
   ]
  },
  {
   "cell_type": "code",
   "execution_count": 27,
   "metadata": {},
   "outputs": [],
   "source": [
    "df = pd.read_csv('salary_and_other_data_cleaned.csv')"
   ]
  },
  {
   "cell_type": "code",
   "execution_count": 28,
   "metadata": {},
   "outputs": [
    {
     "data": {
      "text/html": [
       "<div>\n",
       "<style scoped>\n",
       "    .dataframe tbody tr th:only-of-type {\n",
       "        vertical-align: middle;\n",
       "    }\n",
       "\n",
       "    .dataframe tbody tr th {\n",
       "        vertical-align: top;\n",
       "    }\n",
       "\n",
       "    .dataframe thead th {\n",
       "        text-align: right;\n",
       "    }\n",
       "</style>\n",
       "<table border=\"1\" class=\"dataframe\">\n",
       "  <thead>\n",
       "    <tr style=\"text-align: right;\">\n",
       "      <th></th>\n",
       "      <th>Job Title</th>\n",
       "      <th>Salary Estimate</th>\n",
       "      <th>Job Description</th>\n",
       "      <th>Rating</th>\n",
       "      <th>Company Name</th>\n",
       "      <th>Location</th>\n",
       "      <th>Size</th>\n",
       "      <th>Founded</th>\n",
       "      <th>Type of ownership</th>\n",
       "      <th>Industry</th>\n",
       "      <th>...</th>\n",
       "      <th>max_salary</th>\n",
       "      <th>avg_salary</th>\n",
       "      <th>company_txt</th>\n",
       "      <th>job_state</th>\n",
       "      <th>age</th>\n",
       "      <th>python_yn</th>\n",
       "      <th>R_yn</th>\n",
       "      <th>spark</th>\n",
       "      <th>aws</th>\n",
       "      <th>excel</th>\n",
       "    </tr>\n",
       "  </thead>\n",
       "  <tbody>\n",
       "    <tr>\n",
       "      <th>0</th>\n",
       "      <td>Senior Data Scientist , Advanced Analytics</td>\n",
       "      <td>$123K-$199K (Glassdoor est.)</td>\n",
       "      <td>Senior Data Scientist\\nRaytheon Missiles &amp; Def...</td>\n",
       "      <td>3.8</td>\n",
       "      <td>Raytheon Missiles &amp; Defense\\n3.8</td>\n",
       "      <td>Andover, MA</td>\n",
       "      <td>-1</td>\n",
       "      <td>-1</td>\n",
       "      <td>-1</td>\n",
       "      <td>-1</td>\n",
       "      <td>...</td>\n",
       "      <td>199</td>\n",
       "      <td>161.0</td>\n",
       "      <td>Raytheon Missiles &amp; Defense\\n</td>\n",
       "      <td>MA</td>\n",
       "      <td>-1</td>\n",
       "      <td>1</td>\n",
       "      <td>0</td>\n",
       "      <td>0</td>\n",
       "      <td>1</td>\n",
       "      <td>0</td>\n",
       "    </tr>\n",
       "    <tr>\n",
       "      <th>1</th>\n",
       "      <td>Data Scientist 2</td>\n",
       "      <td>$52K-$95K (Glassdoor est.)</td>\n",
       "      <td>Description\\nDigital Health and Analytics with...</td>\n",
       "      <td>3.9</td>\n",
       "      <td>Raytheon Missiles &amp; Defense\\n3.8</td>\n",
       "      <td>Louisville, KY</td>\n",
       "      <td>10000+ Employees</td>\n",
       "      <td>1961</td>\n",
       "      <td>Company - Public</td>\n",
       "      <td>Insurance Carriers</td>\n",
       "      <td>...</td>\n",
       "      <td>95</td>\n",
       "      <td>73.5</td>\n",
       "      <td>Raytheon Missiles &amp; Defense\\n</td>\n",
       "      <td>KY</td>\n",
       "      <td>59</td>\n",
       "      <td>1</td>\n",
       "      <td>0</td>\n",
       "      <td>1</td>\n",
       "      <td>0</td>\n",
       "      <td>0</td>\n",
       "    </tr>\n",
       "    <tr>\n",
       "      <th>2</th>\n",
       "      <td>Senior Data Engineer</td>\n",
       "      <td>$67K-$127K (Glassdoor est.)</td>\n",
       "      <td>Join our team dedicated to developing and exec...</td>\n",
       "      <td>4.6</td>\n",
       "      <td>Novetta\\n4.6</td>\n",
       "      <td>Reston, VA</td>\n",
       "      <td>501 to 1000 Employees</td>\n",
       "      <td>2012</td>\n",
       "      <td>Company - Private</td>\n",
       "      <td>Enterprise Software &amp; Network Solutions</td>\n",
       "      <td>...</td>\n",
       "      <td>127</td>\n",
       "      <td>97.0</td>\n",
       "      <td>Novetta\\n</td>\n",
       "      <td>VA</td>\n",
       "      <td>8</td>\n",
       "      <td>1</td>\n",
       "      <td>0</td>\n",
       "      <td>1</td>\n",
       "      <td>1</td>\n",
       "      <td>1</td>\n",
       "    </tr>\n",
       "    <tr>\n",
       "      <th>3</th>\n",
       "      <td>Research Scientist/ Senior Research Scientist</td>\n",
       "      <td>$88K-$167K (Glassdoor est.)</td>\n",
       "      <td>Research Scientist/ Senior Research Scientist\\...</td>\n",
       "      <td>4.2</td>\n",
       "      <td>AstraZeneca\\n4.2</td>\n",
       "      <td>Gaithersburg, MD</td>\n",
       "      <td>10000+ Employees</td>\n",
       "      <td>1913</td>\n",
       "      <td>Company - Public</td>\n",
       "      <td>Biotech &amp; Pharmaceuticals</td>\n",
       "      <td>...</td>\n",
       "      <td>167</td>\n",
       "      <td>127.5</td>\n",
       "      <td>AstraZeneca\\n</td>\n",
       "      <td>MD</td>\n",
       "      <td>107</td>\n",
       "      <td>0</td>\n",
       "      <td>0</td>\n",
       "      <td>0</td>\n",
       "      <td>0</td>\n",
       "      <td>1</td>\n",
       "    </tr>\n",
       "    <tr>\n",
       "      <th>4</th>\n",
       "      <td>Spark/Big Data Engineer</td>\n",
       "      <td>$52K-$101K (Glassdoor est.)</td>\n",
       "      <td>The Data Consumption team of Decision Sciences...</td>\n",
       "      <td>3.5</td>\n",
       "      <td>GEICO\\n3.5</td>\n",
       "      <td>Chevy Chase, MD</td>\n",
       "      <td>10000+ Employees</td>\n",
       "      <td>1936</td>\n",
       "      <td>Subsidiary or Business Segment</td>\n",
       "      <td>Insurance Carriers</td>\n",
       "      <td>...</td>\n",
       "      <td>101</td>\n",
       "      <td>76.5</td>\n",
       "      <td>GEICO\\n</td>\n",
       "      <td>MD</td>\n",
       "      <td>84</td>\n",
       "      <td>0</td>\n",
       "      <td>0</td>\n",
       "      <td>1</td>\n",
       "      <td>0</td>\n",
       "      <td>1</td>\n",
       "    </tr>\n",
       "  </tbody>\n",
       "</table>\n",
       "<p>5 rows × 25 columns</p>\n",
       "</div>"
      ],
      "text/plain": [
       "                                       Job Title  \\\n",
       "0     Senior Data Scientist , Advanced Analytics   \n",
       "1                               Data Scientist 2   \n",
       "2                           Senior Data Engineer   \n",
       "3  Research Scientist/ Senior Research Scientist   \n",
       "4                        Spark/Big Data Engineer   \n",
       "\n",
       "                Salary Estimate  \\\n",
       "0  $123K-$199K (Glassdoor est.)   \n",
       "1    $52K-$95K (Glassdoor est.)   \n",
       "2   $67K-$127K (Glassdoor est.)   \n",
       "3   $88K-$167K (Glassdoor est.)   \n",
       "4   $52K-$101K (Glassdoor est.)   \n",
       "\n",
       "                                     Job Description  Rating  \\\n",
       "0  Senior Data Scientist\\nRaytheon Missiles & Def...     3.8   \n",
       "1  Description\\nDigital Health and Analytics with...     3.9   \n",
       "2  Join our team dedicated to developing and exec...     4.6   \n",
       "3  Research Scientist/ Senior Research Scientist\\...     4.2   \n",
       "4  The Data Consumption team of Decision Sciences...     3.5   \n",
       "\n",
       "                       Company Name          Location                   Size  \\\n",
       "0  Raytheon Missiles & Defense\\n3.8       Andover, MA                     -1   \n",
       "1  Raytheon Missiles & Defense\\n3.8    Louisville, KY       10000+ Employees   \n",
       "2                      Novetta\\n4.6        Reston, VA  501 to 1000 Employees   \n",
       "3                  AstraZeneca\\n4.2  Gaithersburg, MD       10000+ Employees   \n",
       "4                        GEICO\\n3.5   Chevy Chase, MD       10000+ Employees   \n",
       "\n",
       "   Founded               Type of ownership  \\\n",
       "0       -1                              -1   \n",
       "1     1961                Company - Public   \n",
       "2     2012               Company - Private   \n",
       "3     1913                Company - Public   \n",
       "4     1936  Subsidiary or Business Segment   \n",
       "\n",
       "                                  Industry  ... max_salary avg_salary  \\\n",
       "0                                       -1  ...        199      161.0   \n",
       "1                       Insurance Carriers  ...         95       73.5   \n",
       "2  Enterprise Software & Network Solutions  ...        127       97.0   \n",
       "3                Biotech & Pharmaceuticals  ...        167      127.5   \n",
       "4                       Insurance Carriers  ...        101       76.5   \n",
       "\n",
       "                     company_txt  job_state  age  python_yn  R_yn spark aws  \\\n",
       "0  Raytheon Missiles & Defense\\n         MA   -1          1     0     0   1   \n",
       "1  Raytheon Missiles & Defense\\n         KY   59          1     0     1   0   \n",
       "2                      Novetta\\n         VA    8          1     0     1   1   \n",
       "3                  AstraZeneca\\n         MD  107          0     0     0   0   \n",
       "4                        GEICO\\n         MD   84          0     0     1   0   \n",
       "\n",
       "   excel  \n",
       "0      0  \n",
       "1      0  \n",
       "2      1  \n",
       "3      1  \n",
       "4      1  \n",
       "\n",
       "[5 rows x 25 columns]"
      ]
     },
     "execution_count": 28,
     "metadata": {},
     "output_type": "execute_result"
    }
   ],
   "source": [
    "df. head()"
   ]
  },
  {
   "cell_type": "code",
   "execution_count": 29,
   "metadata": {},
   "outputs": [
    {
     "data": {
      "text/plain": [
       "Index(['Job Title', 'Salary Estimate', 'Job Description', 'Rating',\n",
       "       'Company Name', 'Location', 'Size', 'Founded', 'Type of ownership',\n",
       "       'Industry', 'Sector', 'Revenue', 'hourly', 'employer_provided',\n",
       "       'min_salary', 'max_salary', 'avg_salary', 'company_txt', 'job_state',\n",
       "       'age', 'python_yn', 'R_yn', 'spark', 'aws', 'excel'],\n",
       "      dtype='object')"
      ]
     },
     "execution_count": 29,
     "metadata": {},
     "output_type": "execute_result"
    }
   ],
   "source": [
    "df.columns"
   ]
  },
  {
   "cell_type": "code",
   "execution_count": 30,
   "metadata": {},
   "outputs": [],
   "source": [
    "def title_simplification(title):\n",
    "    if 'data scientist' in title.lower():\n",
    "        return 'data scientist'\n",
    "    elif 'data engineer' in title.lower():\n",
    "        return 'data engineer'\n",
    "    elif 'analyst' in title.lower():\n",
    "        return 'analyst'\n",
    "    elif 'machine learning' in title.lower():\n",
    "        return 'mle'\n",
    "    elif 'manager' in title.lower():\n",
    "        return 'manager'\n",
    "    elif 'director' in title.lower():\n",
    "        return 'director'\n",
    "    else:\n",
    "        return 'na'\n",
    "\n",
    "def senior(title):\n",
    "    if 'sr' in title.lower() or 'senior' in title.lower() or 'lead' in title.lower() or 'principal' in title.lower() or 'sr.' in title.lower():\n",
    "        return 'senior'\n",
    "    elif 'jr' in title.lower() or 'jr.' in title.lower() or 'junior' in title.lower():\n",
    "        return 'jr'\n",
    "    else:\n",
    "        return 'na'\n"
   ]
  },
  {
   "cell_type": "code",
   "execution_count": 31,
   "metadata": {},
   "outputs": [],
   "source": [
    "df['job_simple'] = df['Job Title'].apply(title_simplification)"
   ]
  },
  {
   "cell_type": "code",
   "execution_count": 32,
   "metadata": {},
   "outputs": [
    {
     "data": {
      "text/plain": [
       "data scientist    141\n",
       "analyst           101\n",
       "na                 57\n",
       "data engineer      36\n",
       "mle                 6\n",
       "manager             5\n",
       "director            4\n",
       "Name: job_simple, dtype: int64"
      ]
     },
     "execution_count": 32,
     "metadata": {},
     "output_type": "execute_result"
    }
   ],
   "source": [
    "df['job_simple'].value_counts()"
   ]
  },
  {
   "cell_type": "code",
   "execution_count": 33,
   "metadata": {},
   "outputs": [
    {
     "data": {
      "text/plain": [
       "na        270\n",
       "senior     78\n",
       "jr          2\n",
       "Name: seniority, dtype: int64"
      ]
     },
     "execution_count": 33,
     "metadata": {},
     "output_type": "execute_result"
    }
   ],
   "source": [
    "df['seniority'] = df['Job Title'].apply(senior)\n",
    "df['seniority'].value_counts()"
   ]
  },
  {
   "cell_type": "code",
   "execution_count": 34,
   "metadata": {},
   "outputs": [
    {
     "data": {
      "text/plain": [
       " CA    34\n",
       " VA    31\n",
       " MD    30\n",
       " NY    28\n",
       " MA    27\n",
       " TX    20\n",
       " FL    19\n",
       " GA    17\n",
       " NJ    13\n",
       " UT    13\n",
       " PA    12\n",
       " WI    10\n",
       " MO     8\n",
       " CO     8\n",
       " IL     8\n",
       " IN     8\n",
       " WA     7\n",
       " NM     7\n",
       " DC     6\n",
       " NC     6\n",
       " MI     4\n",
       " OH     4\n",
       " CT     3\n",
       " KY     3\n",
       " ME     3\n",
       " NE     3\n",
       " AZ     3\n",
       " AR     3\n",
       " OK     2\n",
       " AL     2\n",
       " TN     2\n",
       " IA     2\n",
       " LA     1\n",
       " MS     1\n",
       " SC     1\n",
       " ID     1\n",
       "Name: job_state, dtype: int64"
      ]
     },
     "execution_count": 34,
     "metadata": {},
     "output_type": "execute_result"
    }
   ],
   "source": [
    "df['job_state'].value_counts()"
   ]
  },
  {
   "cell_type": "code",
   "execution_count": 35,
   "metadata": {},
   "outputs": [],
   "source": [
    "df['desc_length'] = df['Job Description'].apply(lambda x: len(x))\n"
   ]
  },
  {
   "cell_type": "code",
   "execution_count": 36,
   "metadata": {},
   "outputs": [
    {
     "data": {
      "text/plain": [
       "0      4627\n",
       "1      3525\n",
       "2      5999\n",
       "3      5182\n",
       "4      3982\n",
       "       ... \n",
       "345    1610\n",
       "346    6253\n",
       "347    2940\n",
       "348    3890\n",
       "349    4761\n",
       "Name: desc_length, Length: 350, dtype: int64"
      ]
     },
     "execution_count": 36,
     "metadata": {},
     "output_type": "execute_result"
    }
   ],
   "source": [
    "df['desc_length']"
   ]
  },
  {
   "cell_type": "code",
   "execution_count": 37,
   "metadata": {},
   "outputs": [],
   "source": [
    "#hourly wage calculation\n",
    "df['min_salary'] = df.apply(lambda x: x.min_salary*2 if x.hourly == 1 else x.min_salary, axis = 1)\n",
    "df['max_salary'] = df.apply(lambda x: x.max_salary*2 if x.hourly == 1 else x.max_salary, axis = 1)"
   ]
  },
  {
   "cell_type": "code",
   "execution_count": 38,
   "metadata": {},
   "outputs": [
    {
     "data": {
      "text/plain": [
       "65     13\n",
       "40     11\n",
       "83     11\n",
       "72      9\n",
       "52      9\n",
       "       ..\n",
       "73      1\n",
       "70      1\n",
       "56      1\n",
       "31      1\n",
       "144     1\n",
       "Name: min_salary, Length: 99, dtype: int64"
      ]
     },
     "execution_count": 38,
     "metadata": {},
     "output_type": "execute_result"
    }
   ],
   "source": [
    "df['min_salary'].value_counts()"
   ]
  },
  {
   "cell_type": "code",
   "execution_count": 39,
   "metadata": {},
   "outputs": [
    {
     "data": {
      "text/html": [
       "<div>\n",
       "<style scoped>\n",
       "    .dataframe tbody tr th:only-of-type {\n",
       "        vertical-align: middle;\n",
       "    }\n",
       "\n",
       "    .dataframe tbody tr th {\n",
       "        vertical-align: top;\n",
       "    }\n",
       "\n",
       "    .dataframe thead th {\n",
       "        text-align: right;\n",
       "    }\n",
       "</style>\n",
       "<table border=\"1\" class=\"dataframe\">\n",
       "  <thead>\n",
       "    <tr style=\"text-align: right;\">\n",
       "      <th></th>\n",
       "      <th>hourly</th>\n",
       "      <th>min_salary</th>\n",
       "      <th>max_salary</th>\n",
       "    </tr>\n",
       "  </thead>\n",
       "  <tbody>\n",
       "    <tr>\n",
       "      <th>65</th>\n",
       "      <td>1</td>\n",
       "      <td>30</td>\n",
       "      <td>52</td>\n",
       "    </tr>\n",
       "    <tr>\n",
       "      <th>70</th>\n",
       "      <td>1</td>\n",
       "      <td>34</td>\n",
       "      <td>48</td>\n",
       "    </tr>\n",
       "    <tr>\n",
       "      <th>138</th>\n",
       "      <td>1</td>\n",
       "      <td>28</td>\n",
       "      <td>60</td>\n",
       "    </tr>\n",
       "    <tr>\n",
       "      <th>200</th>\n",
       "      <td>1</td>\n",
       "      <td>28</td>\n",
       "      <td>40</td>\n",
       "    </tr>\n",
       "    <tr>\n",
       "      <th>211</th>\n",
       "      <td>1</td>\n",
       "      <td>28</td>\n",
       "      <td>60</td>\n",
       "    </tr>\n",
       "    <tr>\n",
       "      <th>253</th>\n",
       "      <td>1</td>\n",
       "      <td>122</td>\n",
       "      <td>230</td>\n",
       "    </tr>\n",
       "  </tbody>\n",
       "</table>\n",
       "</div>"
      ],
      "text/plain": [
       "     hourly  min_salary  max_salary\n",
       "65        1          30          52\n",
       "70        1          34          48\n",
       "138       1          28          60\n",
       "200       1          28          40\n",
       "211       1          28          60\n",
       "253       1         122         230"
      ]
     },
     "execution_count": 39,
     "metadata": {},
     "output_type": "execute_result"
    }
   ],
   "source": [
    "df[df.hourly == 1][['hourly','min_salary', 'max_salary']]"
   ]
  },
  {
   "cell_type": "code",
   "execution_count": 40,
   "metadata": {},
   "outputs": [],
   "source": [
    "df['company_txt'] = df['company_txt'].apply(lambda x: x.replace('\\n',''))"
   ]
  },
  {
   "cell_type": "code",
   "execution_count": 41,
   "metadata": {},
   "outputs": [
    {
     "data": {
      "text/plain": [
       "0            Raytheon Missiles & Defense\n",
       "1            Raytheon Missiles & Defense\n",
       "2                                Novetta\n",
       "3                            AstraZeneca\n",
       "4                                  GEICO\n",
       "                     ...                \n",
       "345                            ERT, Inc.\n",
       "346                           Guidehouse\n",
       "347    TTI Floor Care North America Inc.\n",
       "348                            Perspecta\n",
       "349                            Perspecta\n",
       "Name: company_txt, Length: 350, dtype: object"
      ]
     },
     "execution_count": 41,
     "metadata": {},
     "output_type": "execute_result"
    }
   ],
   "source": [
    "df['company_txt']"
   ]
  },
  {
   "cell_type": "code",
   "execution_count": 42,
   "metadata": {},
   "outputs": [
    {
     "data": {
      "text/html": [
       "<div>\n",
       "<style scoped>\n",
       "    .dataframe tbody tr th:only-of-type {\n",
       "        vertical-align: middle;\n",
       "    }\n",
       "\n",
       "    .dataframe tbody tr th {\n",
       "        vertical-align: top;\n",
       "    }\n",
       "\n",
       "    .dataframe thead th {\n",
       "        text-align: right;\n",
       "    }\n",
       "</style>\n",
       "<table border=\"1\" class=\"dataframe\">\n",
       "  <thead>\n",
       "    <tr style=\"text-align: right;\">\n",
       "      <th></th>\n",
       "      <th>Rating</th>\n",
       "      <th>Founded</th>\n",
       "      <th>hourly</th>\n",
       "      <th>employer_provided</th>\n",
       "      <th>min_salary</th>\n",
       "      <th>max_salary</th>\n",
       "      <th>avg_salary</th>\n",
       "      <th>age</th>\n",
       "      <th>python_yn</th>\n",
       "      <th>R_yn</th>\n",
       "      <th>spark</th>\n",
       "      <th>aws</th>\n",
       "      <th>excel</th>\n",
       "      <th>desc_length</th>\n",
       "    </tr>\n",
       "  </thead>\n",
       "  <tbody>\n",
       "    <tr>\n",
       "      <th>count</th>\n",
       "      <td>350.000000</td>\n",
       "      <td>350.000000</td>\n",
       "      <td>350.000000</td>\n",
       "      <td>350.000000</td>\n",
       "      <td>350.000000</td>\n",
       "      <td>350.000000</td>\n",
       "      <td>350.000000</td>\n",
       "      <td>350.000000</td>\n",
       "      <td>350.000000</td>\n",
       "      <td>350.0</td>\n",
       "      <td>350.000000</td>\n",
       "      <td>350.000000</td>\n",
       "      <td>350.000000</td>\n",
       "      <td>350.000000</td>\n",
       "    </tr>\n",
       "    <tr>\n",
       "      <th>mean</th>\n",
       "      <td>3.748286</td>\n",
       "      <td>1868.380000</td>\n",
       "      <td>0.017143</td>\n",
       "      <td>0.005714</td>\n",
       "      <td>68.931429</td>\n",
       "      <td>117.568571</td>\n",
       "      <td>92.707143</td>\n",
       "      <td>41.854286</td>\n",
       "      <td>0.554286</td>\n",
       "      <td>0.0</td>\n",
       "      <td>0.177143</td>\n",
       "      <td>0.254286</td>\n",
       "      <td>0.582857</td>\n",
       "      <td>4274.865714</td>\n",
       "    </tr>\n",
       "    <tr>\n",
       "      <th>std</th>\n",
       "      <td>0.502355</td>\n",
       "      <td>450.367359</td>\n",
       "      <td>0.129989</td>\n",
       "      <td>0.075485</td>\n",
       "      <td>26.456233</td>\n",
       "      <td>39.560691</td>\n",
       "      <td>32.839770</td>\n",
       "      <td>42.028424</td>\n",
       "      <td>0.497756</td>\n",
       "      <td>0.0</td>\n",
       "      <td>0.382336</td>\n",
       "      <td>0.436082</td>\n",
       "      <td>0.493793</td>\n",
       "      <td>1882.214159</td>\n",
       "    </tr>\n",
       "    <tr>\n",
       "      <th>min</th>\n",
       "      <td>2.000000</td>\n",
       "      <td>-1.000000</td>\n",
       "      <td>0.000000</td>\n",
       "      <td>0.000000</td>\n",
       "      <td>17.000000</td>\n",
       "      <td>40.000000</td>\n",
       "      <td>17.000000</td>\n",
       "      <td>-1.000000</td>\n",
       "      <td>0.000000</td>\n",
       "      <td>0.0</td>\n",
       "      <td>0.000000</td>\n",
       "      <td>0.000000</td>\n",
       "      <td>0.000000</td>\n",
       "      <td>839.000000</td>\n",
       "    </tr>\n",
       "    <tr>\n",
       "      <th>25%</th>\n",
       "      <td>3.400000</td>\n",
       "      <td>1947.000000</td>\n",
       "      <td>0.000000</td>\n",
       "      <td>0.000000</td>\n",
       "      <td>47.000000</td>\n",
       "      <td>87.250000</td>\n",
       "      <td>66.250000</td>\n",
       "      <td>13.000000</td>\n",
       "      <td>0.000000</td>\n",
       "      <td>0.0</td>\n",
       "      <td>0.000000</td>\n",
       "      <td>0.000000</td>\n",
       "      <td>0.000000</td>\n",
       "      <td>3119.000000</td>\n",
       "    </tr>\n",
       "    <tr>\n",
       "      <th>50%</th>\n",
       "      <td>3.800000</td>\n",
       "      <td>1986.000000</td>\n",
       "      <td>0.000000</td>\n",
       "      <td>0.000000</td>\n",
       "      <td>65.500000</td>\n",
       "      <td>112.000000</td>\n",
       "      <td>89.000000</td>\n",
       "      <td>25.500000</td>\n",
       "      <td>1.000000</td>\n",
       "      <td>0.0</td>\n",
       "      <td>0.000000</td>\n",
       "      <td>0.000000</td>\n",
       "      <td>1.000000</td>\n",
       "      <td>4023.500000</td>\n",
       "    </tr>\n",
       "    <tr>\n",
       "      <th>75%</th>\n",
       "      <td>4.075000</td>\n",
       "      <td>2005.000000</td>\n",
       "      <td>0.000000</td>\n",
       "      <td>0.000000</td>\n",
       "      <td>88.000000</td>\n",
       "      <td>144.000000</td>\n",
       "      <td>116.000000</td>\n",
       "      <td>58.500000</td>\n",
       "      <td>1.000000</td>\n",
       "      <td>0.0</td>\n",
       "      <td>0.000000</td>\n",
       "      <td>1.000000</td>\n",
       "      <td>1.000000</td>\n",
       "      <td>5067.500000</td>\n",
       "    </tr>\n",
       "    <tr>\n",
       "      <th>max</th>\n",
       "      <td>4.900000</td>\n",
       "      <td>2020.000000</td>\n",
       "      <td>1.000000</td>\n",
       "      <td>1.000000</td>\n",
       "      <td>144.000000</td>\n",
       "      <td>235.000000</td>\n",
       "      <td>187.500000</td>\n",
       "      <td>190.000000</td>\n",
       "      <td>1.000000</td>\n",
       "      <td>0.0</td>\n",
       "      <td>1.000000</td>\n",
       "      <td>1.000000</td>\n",
       "      <td>1.000000</td>\n",
       "      <td>16050.000000</td>\n",
       "    </tr>\n",
       "  </tbody>\n",
       "</table>\n",
       "</div>"
      ],
      "text/plain": [
       "           Rating      Founded      hourly  employer_provided  min_salary  \\\n",
       "count  350.000000   350.000000  350.000000         350.000000  350.000000   \n",
       "mean     3.748286  1868.380000    0.017143           0.005714   68.931429   \n",
       "std      0.502355   450.367359    0.129989           0.075485   26.456233   \n",
       "min      2.000000    -1.000000    0.000000           0.000000   17.000000   \n",
       "25%      3.400000  1947.000000    0.000000           0.000000   47.000000   \n",
       "50%      3.800000  1986.000000    0.000000           0.000000   65.500000   \n",
       "75%      4.075000  2005.000000    0.000000           0.000000   88.000000   \n",
       "max      4.900000  2020.000000    1.000000           1.000000  144.000000   \n",
       "\n",
       "       max_salary  avg_salary         age   python_yn   R_yn       spark  \\\n",
       "count  350.000000  350.000000  350.000000  350.000000  350.0  350.000000   \n",
       "mean   117.568571   92.707143   41.854286    0.554286    0.0    0.177143   \n",
       "std     39.560691   32.839770   42.028424    0.497756    0.0    0.382336   \n",
       "min     40.000000   17.000000   -1.000000    0.000000    0.0    0.000000   \n",
       "25%     87.250000   66.250000   13.000000    0.000000    0.0    0.000000   \n",
       "50%    112.000000   89.000000   25.500000    1.000000    0.0    0.000000   \n",
       "75%    144.000000  116.000000   58.500000    1.000000    0.0    0.000000   \n",
       "max    235.000000  187.500000  190.000000    1.000000    0.0    1.000000   \n",
       "\n",
       "              aws       excel   desc_length  \n",
       "count  350.000000  350.000000    350.000000  \n",
       "mean     0.254286    0.582857   4274.865714  \n",
       "std      0.436082    0.493793   1882.214159  \n",
       "min      0.000000    0.000000    839.000000  \n",
       "25%      0.000000    0.000000   3119.000000  \n",
       "50%      0.000000    1.000000   4023.500000  \n",
       "75%      1.000000    1.000000   5067.500000  \n",
       "max      1.000000    1.000000  16050.000000  "
      ]
     },
     "execution_count": 42,
     "metadata": {},
     "output_type": "execute_result"
    }
   ],
   "source": [
    "df.describe()"
   ]
  },
  {
   "cell_type": "code",
   "execution_count": 43,
   "metadata": {},
   "outputs": [
    {
     "data": {
      "text/plain": [
       "Index(['Job Title', 'Salary Estimate', 'Job Description', 'Rating',\n",
       "       'Company Name', 'Location', 'Size', 'Founded', 'Type of ownership',\n",
       "       'Industry', 'Sector', 'Revenue', 'hourly', 'employer_provided',\n",
       "       'min_salary', 'max_salary', 'avg_salary', 'company_txt', 'job_state',\n",
       "       'age', 'python_yn', 'R_yn', 'spark', 'aws', 'excel', 'job_simple',\n",
       "       'seniority', 'desc_length'],\n",
       "      dtype='object')"
      ]
     },
     "execution_count": 43,
     "metadata": {},
     "output_type": "execute_result"
    }
   ],
   "source": [
    "df.columns"
   ]
  },
  {
   "cell_type": "code",
   "execution_count": 44,
   "metadata": {},
   "outputs": [
    {
     "data": {
      "text/plain": [
       "<AxesSubplot:>"
      ]
     },
     "execution_count": 44,
     "metadata": {},
     "output_type": "execute_result"
    },
    {
     "data": {
<<<<<<< HEAD
      "image/png": "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\n",
=======
      "image/png": "iVBORw0KGgoAAAANSUhEUgAAAXQAAAD4CAYAAAD8Zh1EAAAABHNCSVQICAgIfAhkiAAAAAlwSFlzAAALEgAACxIB0t1+/AAAADh0RVh0U29mdHdhcmUAbWF0cGxvdGxpYiB2ZXJzaW9uMy4yLjIsIGh0dHA6Ly9tYXRwbG90bGliLm9yZy+WH4yJAAAOzUlEQVR4nO3dX4xc5XnH8e8TTITDBgyCbi1Du72w0lKspLAipJai3ZBUJKCYi6BSJdREVFarJKWVq8rJRaNeVPVFiUr/qJUFlVyFdkWBBAsnaSwn2zYX0NpA6xCnAqUuwbh2E4HJUpTI7dOLPVZX67HnzOzszszT70dazZ457zvzPH53f3v27JxxZCaSpPH3lmEXIEkaDANdkoow0CWpCANdkoow0CWpiHVr+WRXXXVVTk1N9TX3jTfe4NJLLx1sQUNWradq/UC9nqr1A/V66tTP4cOHv5eZV3ebu6aBPjU1xaFDh/qaOz8/z8zMzGALGrJqPVXrB+r1VK0fqNdTp34i4t/bzPWUiyQVYaBLUhEGuiQVYaBLUhEGuiQVYaBLUhEGuiQVYaBLUhEGuiQVsaZXiko619Su/Wv2XDu3nOGe5vmO7b5tzZ5Xa8MjdEkqwkCXpCIMdEkqwkCXpCIMdEkqwkCXpCIMdEkqwkCXpCIMdEkqwkCXpCIMdEkqwkCXpCIMdEkqwndblDj/Ox4ufXdCadR5hC5JRRjoklREq0CPiN+MiOcj4psR8dcRcUlEXBkRByLiheb2itUuVpJ0fl0DPSI2Ab8OTGfm9cBFwF3ALuBgZm4GDjbbkqQhaXvKZR2wPiLWAW8DXgG2AXub/XuBOwZfniSpra6BnpnHgT8AXgJOAKcz86vAZGaeaMacAH5sNQuVJF1YZOaFByyeG38M+EXgNeBvgEeBP8nMDUvGvZqZ55xHj4gdwA6AycnJG+fm5voqdGFhgYmJib7mjqpqPY1zP0eOn+54/+R6OPnmGhezipb2s2XT5cMtZkDG+euuk079zM7OHs7M6W5z27wO/f3Av2XmfwJExOPAzwMnI2JjZp6IiI3AqU6TM3MPsAdgeno6Z2ZmWjzluebn5+l37qiq1tM493O+15rv3HKG+4/UuVxjaT/HPjoz3GIGZJy/7jpZST9tzqG/BNwcEW+LiABuAY4C+4DtzZjtwBN9VSBJGoiuhx6Z+XREPAo8A5wBnmXxiHsCeCQi7mUx9O9czUIlSRfW6nfJzPws8Nlld/+QxaN1SdII8EpRSSrCQJekIgx0SSrCQJekIgx0SSrCQJekIgx0SSrCQJekIgx0SSrCQJekIgx0SSrCQJekIgx0SSrCQJekIgx0SSrCQJekIgx0SSrCQJekIgx0SSrCQJekIgx0SSrCQJekIgx0SSrCQJekIgx0SSrCQJekIgx0SSrCQJekIgx0SSrCQJekIgx0SSrCQJekIgx0SSrCQJekIgx0SSrCQJekIgx0SSrCQJekIloFekRsiIhHI+LbEXE0It4TEVdGxIGIeKG5vWK1i5UknV/bI/QHgK9k5k8D7wSOAruAg5m5GTjYbEuShqRroEfEZcB7gYcAMvNHmfkasA3Y2wzbC9yxWkVKkrqLzLzwgIh3AXuAb7F4dH4YuA84npkblox7NTPPOe0SETuAHQCTk5M3zs3N9VXowsICExMTfc0dVdV6Gud+jhw/3fH+yfVw8s01LmYVLe1ny6bLh1vMgIzz110nnfqZnZ09nJnT3ea2CfRp4Clga2Y+HREPAK8Dn2oT6EtNT0/noUOHutXU0fz8PDMzM33NHVXVehrnfqZ27e94/84tZ7j/yLo1rmb1LO3n2O7bhlzNYIzz110nnfqJiFaB3uYc+svAy5n5dLP9KHADcDIiNjZPthE41UvRkqTB6hromfkfwHcj4h3NXbewePplH7C9uW878MSqVChJaqXt75KfAh6OiLcC3wE+zuIPg0ci4l7gJeDO1SlRktRGq0DPzOeATudvbhlsOZKkfnmlqCQVYaBLUhEGuiQVYaBLUhEGuiQVYaBLUhEGuiQVYaBLUhEGuiQVYaBLUhEGuiQVYaBLUhEGuiQVYaBLUhEGuiQVYaBLUhEGuiQVUee/M5fUk6ld+4f23Md23za0567MI3RJKsJAl6QiPOWikTLM0wDSuPMIXZKKMNAlqQgDXZKKMNAlqQgDXZKKMNAlqQgDXZKKMNAlqQgDXZKKMNAlqQgDXZKKMNAlqQgDXZKKMNAlqQgDXZKKMNAlqQgDXZKKaB3oEXFRRDwbEU8221dGxIGIeKG5vWL1ypQkddPLEfp9wNEl27uAg5m5GTjYbEuShqRVoEfENcBtwINL7t4G7G0+3wvcMdjSJEm9iMzsPijiUeD3gbcDv5WZt0fEa5m5YcmYVzPznNMuEbED2AEwOTl549zcXF+FLiwsMDEx0dfcUVWtp0H0c+T46QFVMxiT6+Hkm8OuYnBGpZ8tmy4f2GP9f/g+mp2dPZyZ093mrus2ICJuB05l5uGImOm1uMzcA+wBmJ6ezpmZnh8CgPn5efqdO6qq9TSIfu7ZtX8wxQzIzi1nuP9I12+TsTEq/Rz76MzAHsvvo//TZmW3Ah+OiA8BlwCXRcTngZMRsTEzT0TERuBUXxVIkgai6zn0zPx0Zl6TmVPAXcDXMvNjwD5gezNsO/DEqlUpSepqJa9D3w18ICJeAD7QbEuShqSnk2mZOQ/MN59/H7hl8CVJkvrhlaKSVISBLklFGOiSVISBLklFGOiSVISBLklFGOiSVISBLklFGOiSVISBLklFGOiSVISBLklFGOiSVISBLklFGOiSVISBLklFGOiSVISBLklFGOiSVISBLklFGOiSVISBLklFGOiSVISBLklFGOiSVISBLklFrBt2ARo9U7v29zVv55Yz3NPnXEkr5xG6JBVhoEtSEQa6JBVhoEtSEQa6JBVhoEtSEb5sUdKa6/elsZ308nLZY7tvG9jzjiKP0CWpCANdkoow0CWpiK6BHhHXRsTXI+JoRDwfEfc1918ZEQci4oXm9orVL1eSdD5tjtDPADsz82eAm4FPRMR1wC7gYGZuBg4225KkIeka6Jl5IjOfaT7/AXAU2ARsA/Y2w/YCd6xWkZKk7iIz2w+OmAL+HrgeeCkzNyzZ92pmnnPaJSJ2ADsAJicnb5ybm+ur0IWFBSYmJvqaO6pGtacjx0/3NW9yPZx8c8DFDFm1nqr1A731tGXT5atbzAB0yoXZ2dnDmTndbW7rQI+ICeDvgN/LzMcj4rU2gb7U9PR0Hjp0qNXzLTc/P8/MzExfc0fVqPa0krfPvf9IrUsbqvVUrR/oradxeB16p1yIiFaB3upVLhFxMfAY8HBmPt7cfTIiNjb7NwKneilakjRYbV7lEsBDwNHM/NySXfuA7c3n24EnBl+eJKmtNr+nbAXuBo5ExHPNfZ8BdgOPRMS9wEvAnatToiSpja6BnpnfAOI8u28ZbDmSpH55pagkFWGgS1IRBrokFWGgS1IRBrokFWGgS1IRta4BlqQLGOR/fdertXjbAY/QJakIA12SijDQJakIA12SivCPoiNsmH/AkTR+PEKXpCIMdEkqwkCXpCIMdEkqwkCXpCIMdEkqwkCXpCIMdEkqwkCXpCIMdEkqwkCXpCIMdEkqwkCXpCIMdEkqwkCXpCIMdEkqwkCXpCIMdEkqwkCXpCIMdEkqwkCXpCIMdEkqwkCXpCIMdEkqwkCXpCIMdEkqYt1KJkfErcADwEXAg5m5eyBVdXDk+Gnu2bV/tR5+KHZuOVOuJ0nD0/cRekRcBPwp8EHgOuCXIuK6QRUmSerNSk653AS8mJnfycwfAXPAtsGUJUnqVWRmfxMjPgLcmpm/0mzfDbw7Mz+5bNwOYEez+Q7gX/us9Srge33OHVXVeqrWD9TrqVo/UK+nTv38ZGZe3W3iSs6hR4f7zvnpkJl7gD0reJ7FJ4s4lJnTK32cUVKtp2r9QL2eqvUD9XpaST8rOeXyMnDtku1rgFdW8HiSpBVYSaD/E7A5In4qIt4K3AXsG0xZkqRe9X3KJTPPRMQngb9l8WWLf5GZzw+ssnOt+LTNCKrWU7V+oF5P1fqBej313U/ffxSVJI0WrxSVpCIMdEkqYqQCPSKujYivR8TRiHg+Iu7rMCYi4o8i4sWI+JeIuGEYtbbRsp+ZiDgdEc81H78zjFrbiohLIuIfI+Kfm55+t8OYcVqjNv2M1RqdFREXRcSzEfFkh31js0Zndeln7NYoIo5FxJGm3kMd9ve8Rit6L5dVcAbYmZnPRMTbgcMRcSAzv7VkzAeBzc3Hu4E/a25HUZt+AP4hM28fQn39+CHwvsxciIiLgW9ExJcz86klY8Zpjdr0A+O1RmfdBxwFLuuwb5zW6KwL9QPjuUazmXm+i6J6XqOROkLPzBOZ+Uzz+Q9YXLxNy4ZtA/4yFz0FbIiIjWtcaist+xkrzb/7QrN5cfOx/C/r47RGbfoZOxFxDXAb8OB5hozNGkGrfirqeY1GKtCXiogp4OeAp5ft2gR8d8n2y4xBSF6gH4D3NL/yfzkifnZNC+tD86vvc8Ap4EBmjvUategHxmyNgD8Efhv4n/PsH6s1ons/MH5rlMBXI+Jw8xYpy/W8RiMZ6BExATwG/EZmvr58d4cpI31E1aWfZ1h8n4Z3An8MfHGt6+tVZv53Zr6LxauDb4qI65cNGas1atHPWK1RRNwOnMrMwxca1uG+kVyjlv2M1Ro1tmbmDSyeWvlERLx32f6e12jkAr05j/kY8HBmPt5hyFi95UC3fjLz9bO/8mfml4CLI+KqNS6zL5n5GjAP3Lps11it0Vnn62cM12gr8OGIOMbiu6C+LyI+v2zMOK1R137GcI3IzFea21PAF1h8B9ulel6jkQr0iAjgIeBoZn7uPMP2Ab/c/AX4ZuB0Zp5YsyJ70KafiPjxZhwRcROLa/L9tauyNxFxdURsaD5fD7wf+PayYeO0Rl37Gbc1ysxPZ+Y1mTnF4ltyfC0zP7Zs2NisUZt+xm2NIuLS5oUSRMSlwC8A31w2rOc1GrVXuWwF7gaONOc0AT4D/ARAZv458CXgQ8CLwH8BHx9CnW216ecjwK9FxBngTeCuHO3LdzcCe2PxPzh5C/BIZj4ZEb8KY7lGbfoZtzXqaIzXqKMxX6NJ4AvNz6B1wF9l5ldWukZe+i9JRYzUKRdJUv8MdEkqwkCXpCIMdEkqwkCXpCIMdEkqwkCXpCL+FzzX8wgrxAmjAAAAAElFTkSuQmCC",
>>>>>>> 0e0869d8f3f249d4df0d268c1f15561e488a95f9
      "text/plain": [
       "<Figure size 432x288 with 1 Axes>"
      ]
     },
     "metadata": {
      "needs_background": "light"
     },
     "output_type": "display_data"
    }
   ],
   "source": [
    "df.Rating.hist()"
   ]
  },
  {
   "cell_type": "code",
   "execution_count": 45,
   "metadata": {},
   "outputs": [
    {
     "data": {
      "text/plain": [
       "<AxesSubplot:>"
      ]
     },
     "execution_count": 45,
     "metadata": {},
     "output_type": "execute_result"
    },
    {
     "data": {
<<<<<<< HEAD
      "image/png": "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\n",
=======
      "image/png": "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",
>>>>>>> 0e0869d8f3f249d4df0d268c1f15561e488a95f9
      "text/plain": [
       "<Figure size 432x288 with 1 Axes>"
      ]
     },
     "metadata": {
      "needs_background": "light"
     },
     "output_type": "display_data"
    }
   ],
   "source": [
    "df.avg_salary.hist()"
   ]
  },
  {
   "cell_type": "code",
   "execution_count": 46,
   "metadata": {},
   "outputs": [
    {
     "data": {
      "text/plain": [
       "<AxesSubplot:>"
      ]
     },
     "execution_count": 46,
     "metadata": {},
     "output_type": "execute_result"
    },
    {
     "data": {
<<<<<<< HEAD
      "image/png": "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\n",
=======
      "image/png": "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",
>>>>>>> 0e0869d8f3f249d4df0d268c1f15561e488a95f9
      "text/plain": [
       "<Figure size 432x288 with 1 Axes>"
      ]
     },
     "metadata": {
      "needs_background": "light"
     },
     "output_type": "display_data"
    }
   ],
   "source": [
    "df.age.hist()"
   ]
  },
  {
   "cell_type": "code",
   "execution_count": 47,
   "metadata": {},
   "outputs": [
    {
     "data": {
      "text/plain": [
       "Index(['Job Title', 'Salary Estimate', 'Job Description', 'Rating',\n",
       "       'Company Name', 'Location', 'Size', 'Founded', 'Type of ownership',\n",
       "       'Industry', 'Sector', 'Revenue', 'hourly', 'employer_provided',\n",
       "       'min_salary', 'max_salary', 'avg_salary', 'company_txt', 'job_state',\n",
       "       'age', 'python_yn', 'R_yn', 'spark', 'aws', 'excel', 'job_simple',\n",
       "       'seniority', 'desc_length'],\n",
       "      dtype='object')"
      ]
     },
     "execution_count": 47,
     "metadata": {},
     "output_type": "execute_result"
    }
   ],
   "source": [
    "df.columns"
   ]
  },
  {
   "cell_type": "code",
   "execution_count": 48,
   "metadata": {},
   "outputs": [
    {
     "data": {
      "text/plain": [
       "<AxesSubplot:>"
      ]
     },
     "execution_count": 48,
     "metadata": {},
     "output_type": "execute_result"
    },
    {
     "data": {
<<<<<<< HEAD
      "image/png": "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\n",
=======
      "image/png": "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",
>>>>>>> 0e0869d8f3f249d4df0d268c1f15561e488a95f9
      "text/plain": [
       "<Figure size 432x288 with 1 Axes>"
      ]
     },
     "metadata": {
      "needs_background": "light"
     },
     "output_type": "display_data"
    }
   ],
   "source": [
    "df.desc_length.hist()"
   ]
  },
  {
   "cell_type": "code",
   "execution_count": 53,
   "metadata": {},
   "outputs": [
    {
     "data": {
      "text/plain": [
       "<AxesSubplot:>"
      ]
     },
     "execution_count": 53,
     "metadata": {},
     "output_type": "execute_result"
    },
    {
     "data": {
      "image/png": "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\n",
      "text/plain": [
       "<Figure size 576x432 with 1 Axes>"
      ]
     },
     "metadata": {
      "needs_background": "light"
     },
     "output_type": "display_data"
    }
   ],
   "source": [
    "fig = plt.figure(figsize=(8,6))\n",
    "ax = fig.gca()\n",
    "df.boxplot(['age', 'avg_salary', 'Rating'])"
   ]
  },
  {
   "cell_type": "code",
   "execution_count": 52,
   "metadata": {},
   "outputs": [
    {
     "data": {
      "text/plain": [
       "<AxesSubplot:>"
      ]
     },
     "execution_count": 52,
     "metadata": {},
     "output_type": "execute_result"
    },
    {
     "data": {
<<<<<<< HEAD
      "image/png": "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\n",
=======
      "image/png": "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",
>>>>>>> 0e0869d8f3f249d4df0d268c1f15561e488a95f9
      "text/plain": [
       "<Figure size 432x288 with 1 Axes>"
      ]
     },
     "metadata": {
      "needs_background": "light"
     },
     "output_type": "display_data"
    }
   ],
   "source": [
    "df.boxplot(['age','avg_salary','desc_length','Rating'])"
   ]
  },
  {
   "cell_type": "code",
   "execution_count": 54,
   "metadata": {},
   "outputs": [
    {
     "data": {
      "text/plain": [
       "<AxesSubplot:>"
      ]
     },
     "execution_count": 54,
     "metadata": {},
     "output_type": "execute_result"
    },
    {
     "data": {
<<<<<<< HEAD
      "image/png": "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\n",
=======
      "image/png": "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",
>>>>>>> 0e0869d8f3f249d4df0d268c1f15561e488a95f9
      "text/plain": [
       "<Figure size 432x288 with 1 Axes>"
      ]
     },
     "metadata": {
      "needs_background": "light"
     },
     "output_type": "display_data"
    }
   ],
   "source": [
    "df.boxplot(['age','avg_salary','Rating'])"
   ]
  },
  {
   "cell_type": "code",
   "execution_count": 55,
   "metadata": {},
   "outputs": [
    {
     "data": {
      "text/plain": [
       "<AxesSubplot:>"
      ]
     },
     "execution_count": 55,
     "metadata": {},
     "output_type": "execute_result"
    },
    {
     "data": {
<<<<<<< HEAD
      "image/png": "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\n",
=======
      "image/png": "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",
>>>>>>> 0e0869d8f3f249d4df0d268c1f15561e488a95f9
      "text/plain": [
       "<Figure size 432x288 with 1 Axes>"
      ]
     },
     "metadata": {
      "needs_background": "light"
     },
     "output_type": "display_data"
    }
   ],
   "source": [
    "df.boxplot(['Rating'])"
   ]
  },
  {
   "cell_type": "code",
   "execution_count": null,
   "metadata": {},
   "outputs": [],
   "source": []
  }
 ],
 "metadata": {
  "interpreter": {
   "hash": "f86b023f1a0595a40f7b5f1c711896026bfb42ca4f34577795594e6fcb3c792f"
  },
  "kernelspec": {
   "display_name": "Python 3 (ipykernel)",
   "language": "python",
   "name": "python3"
  },
  "language_info": {
   "codemirror_mode": {
    "name": "ipython",
    "version": 3
   },
   "file_extension": ".py",
   "mimetype": "text/x-python",
   "name": "python",
   "nbconvert_exporter": "python",
   "pygments_lexer": "ipython3",
<<<<<<< HEAD
   "version": "3.8.11"
=======
   "version": "3.8.8"
>>>>>>> 0e0869d8f3f249d4df0d268c1f15561e488a95f9
  }
 },
 "nbformat": 4,
 "nbformat_minor": 4
}
